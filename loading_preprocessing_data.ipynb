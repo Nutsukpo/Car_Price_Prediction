{
 "cells": [
  {
   "cell_type": "markdown",
   "id": "5eb0f479-4f4d-4804-a067-f7043699e01a",
   "metadata": {},
   "source": [
    "## IMPORTING LIBRIES"
   ]
  },
  {
   "cell_type": "code",
   "execution_count": 2,
   "id": "2f5b29d5-d1a3-4644-b98d-c99add666e7b",
   "metadata": {},
   "outputs": [],
   "source": [
    "import numpy as np"
   ]
  },
  {
   "cell_type": "code",
   "execution_count": 4,
   "id": "53340a21-4d56-46bc-874f-e341571fcbaf",
   "metadata": {},
   "outputs": [],
   "source": [
    "import pandas as pd"
   ]
  },
  {
   "cell_type": "code",
   "execution_count": 5,
   "id": "17957739-3a86-4d50-8455-68aa01b2611c",
   "metadata": {},
   "outputs": [],
   "source": [
    "import seaborn as sns"
   ]
  },
  {
   "cell_type": "code",
   "execution_count": 6,
   "id": "83e953ba-67e5-4005-83b1-336022cdc780",
   "metadata": {},
   "outputs": [],
   "source": [
    "import matplotlib.pyplot as plt"
   ]
  },
  {
   "cell_type": "markdown",
   "id": "374b4602-8bdf-4e14-9a2b-3f0dbd299524",
   "metadata": {},
   "source": [
    "## LOADING AND COPYIND DATA"
   ]
  },
  {
   "cell_type": "code",
   "execution_count": 8,
   "id": "13863619-8b4e-4c02-a1ac-1bc6cfb99086",
   "metadata": {},
   "outputs": [],
   "source": [
    "data =pd.read_csv('dataset/car_price_prediction.csv')"
   ]
  },
  {
   "cell_type": "code",
   "execution_count": 9,
   "id": "e9d77574-8842-4c25-9994-f5b0dde5d198",
   "metadata": {},
   "outputs": [],
   "source": [
    "newdata = data.copy()\n"
   ]
  },
  {
   "cell_type": "markdown",
   "id": "d5caa1d7-44e0-48c1-b5be-d6904f7e90e8",
   "metadata": {},
   "source": [
    "## DATA PREVIEW AND "
   ]
  },
  {
   "cell_type": "code",
   "execution_count": 10,
   "id": "baf16260-73d8-4dce-a632-c8fc0766d203",
   "metadata": {},
   "outputs": [
    {
     "data": {
      "text/html": [
       "<div>\n",
       "<style scoped>\n",
       "    .dataframe tbody tr th:only-of-type {\n",
       "        vertical-align: middle;\n",
       "    }\n",
       "\n",
       "    .dataframe tbody tr th {\n",
       "        vertical-align: top;\n",
       "    }\n",
       "\n",
       "    .dataframe thead th {\n",
       "        text-align: right;\n",
       "    }\n",
       "</style>\n",
       "<table border=\"1\" class=\"dataframe\">\n",
       "  <thead>\n",
       "    <tr style=\"text-align: right;\">\n",
       "      <th></th>\n",
       "      <th>ID</th>\n",
       "      <th>Price</th>\n",
       "      <th>Levy</th>\n",
       "      <th>Manufacturer</th>\n",
       "      <th>Model</th>\n",
       "      <th>Prod. year</th>\n",
       "      <th>Category</th>\n",
       "      <th>Leather interior</th>\n",
       "      <th>Fuel type</th>\n",
       "      <th>Engine volume</th>\n",
       "      <th>Mileage</th>\n",
       "      <th>Cylinders</th>\n",
       "      <th>Gear box type</th>\n",
       "      <th>Drive wheels</th>\n",
       "      <th>Doors</th>\n",
       "      <th>Wheel</th>\n",
       "      <th>Color</th>\n",
       "      <th>Airbags</th>\n",
       "    </tr>\n",
       "  </thead>\n",
       "  <tbody>\n",
       "    <tr>\n",
       "      <th>0</th>\n",
       "      <td>45654403</td>\n",
       "      <td>13328</td>\n",
       "      <td>1399</td>\n",
       "      <td>LEXUS</td>\n",
       "      <td>RX 450</td>\n",
       "      <td>2010</td>\n",
       "      <td>Jeep</td>\n",
       "      <td>Yes</td>\n",
       "      <td>Hybrid</td>\n",
       "      <td>3.5</td>\n",
       "      <td>186005 km</td>\n",
       "      <td>6.0</td>\n",
       "      <td>Automatic</td>\n",
       "      <td>4x4</td>\n",
       "      <td>04-May</td>\n",
       "      <td>Left wheel</td>\n",
       "      <td>Silver</td>\n",
       "      <td>12</td>\n",
       "    </tr>\n",
       "    <tr>\n",
       "      <th>1</th>\n",
       "      <td>44731507</td>\n",
       "      <td>16621</td>\n",
       "      <td>1018</td>\n",
       "      <td>CHEVROLET</td>\n",
       "      <td>Equinox</td>\n",
       "      <td>2011</td>\n",
       "      <td>Jeep</td>\n",
       "      <td>No</td>\n",
       "      <td>Petrol</td>\n",
       "      <td>3</td>\n",
       "      <td>192000 km</td>\n",
       "      <td>6.0</td>\n",
       "      <td>Tiptronic</td>\n",
       "      <td>4x4</td>\n",
       "      <td>04-May</td>\n",
       "      <td>Left wheel</td>\n",
       "      <td>Black</td>\n",
       "      <td>8</td>\n",
       "    </tr>\n",
       "    <tr>\n",
       "      <th>2</th>\n",
       "      <td>45774419</td>\n",
       "      <td>8467</td>\n",
       "      <td>-</td>\n",
       "      <td>HONDA</td>\n",
       "      <td>FIT</td>\n",
       "      <td>2006</td>\n",
       "      <td>Hatchback</td>\n",
       "      <td>No</td>\n",
       "      <td>Petrol</td>\n",
       "      <td>1.3</td>\n",
       "      <td>200000 km</td>\n",
       "      <td>4.0</td>\n",
       "      <td>Variator</td>\n",
       "      <td>Front</td>\n",
       "      <td>04-May</td>\n",
       "      <td>Right-hand drive</td>\n",
       "      <td>Black</td>\n",
       "      <td>2</td>\n",
       "    </tr>\n",
       "    <tr>\n",
       "      <th>3</th>\n",
       "      <td>45769185</td>\n",
       "      <td>3607</td>\n",
       "      <td>862</td>\n",
       "      <td>FORD</td>\n",
       "      <td>Escape</td>\n",
       "      <td>2011</td>\n",
       "      <td>Jeep</td>\n",
       "      <td>Yes</td>\n",
       "      <td>Hybrid</td>\n",
       "      <td>2.5</td>\n",
       "      <td>168966 km</td>\n",
       "      <td>4.0</td>\n",
       "      <td>Automatic</td>\n",
       "      <td>4x4</td>\n",
       "      <td>04-May</td>\n",
       "      <td>Left wheel</td>\n",
       "      <td>White</td>\n",
       "      <td>0</td>\n",
       "    </tr>\n",
       "    <tr>\n",
       "      <th>4</th>\n",
       "      <td>45809263</td>\n",
       "      <td>11726</td>\n",
       "      <td>446</td>\n",
       "      <td>HONDA</td>\n",
       "      <td>FIT</td>\n",
       "      <td>2014</td>\n",
       "      <td>Hatchback</td>\n",
       "      <td>Yes</td>\n",
       "      <td>Petrol</td>\n",
       "      <td>1.3</td>\n",
       "      <td>91901 km</td>\n",
       "      <td>4.0</td>\n",
       "      <td>Automatic</td>\n",
       "      <td>Front</td>\n",
       "      <td>04-May</td>\n",
       "      <td>Left wheel</td>\n",
       "      <td>Silver</td>\n",
       "      <td>4</td>\n",
       "    </tr>\n",
       "    <tr>\n",
       "      <th>...</th>\n",
       "      <td>...</td>\n",
       "      <td>...</td>\n",
       "      <td>...</td>\n",
       "      <td>...</td>\n",
       "      <td>...</td>\n",
       "      <td>...</td>\n",
       "      <td>...</td>\n",
       "      <td>...</td>\n",
       "      <td>...</td>\n",
       "      <td>...</td>\n",
       "      <td>...</td>\n",
       "      <td>...</td>\n",
       "      <td>...</td>\n",
       "      <td>...</td>\n",
       "      <td>...</td>\n",
       "      <td>...</td>\n",
       "      <td>...</td>\n",
       "      <td>...</td>\n",
       "    </tr>\n",
       "    <tr>\n",
       "      <th>19232</th>\n",
       "      <td>45798355</td>\n",
       "      <td>8467</td>\n",
       "      <td>-</td>\n",
       "      <td>MERCEDES-BENZ</td>\n",
       "      <td>CLK 200</td>\n",
       "      <td>1999</td>\n",
       "      <td>Coupe</td>\n",
       "      <td>Yes</td>\n",
       "      <td>CNG</td>\n",
       "      <td>2.0 Turbo</td>\n",
       "      <td>300000 km</td>\n",
       "      <td>4.0</td>\n",
       "      <td>Manual</td>\n",
       "      <td>Rear</td>\n",
       "      <td>02-Mar</td>\n",
       "      <td>Left wheel</td>\n",
       "      <td>Silver</td>\n",
       "      <td>5</td>\n",
       "    </tr>\n",
       "    <tr>\n",
       "      <th>19233</th>\n",
       "      <td>45778856</td>\n",
       "      <td>15681</td>\n",
       "      <td>831</td>\n",
       "      <td>HYUNDAI</td>\n",
       "      <td>Sonata</td>\n",
       "      <td>2011</td>\n",
       "      <td>Sedan</td>\n",
       "      <td>Yes</td>\n",
       "      <td>Petrol</td>\n",
       "      <td>2.4</td>\n",
       "      <td>161600 km</td>\n",
       "      <td>4.0</td>\n",
       "      <td>Tiptronic</td>\n",
       "      <td>Front</td>\n",
       "      <td>04-May</td>\n",
       "      <td>Left wheel</td>\n",
       "      <td>Red</td>\n",
       "      <td>8</td>\n",
       "    </tr>\n",
       "    <tr>\n",
       "      <th>19234</th>\n",
       "      <td>45804997</td>\n",
       "      <td>26108</td>\n",
       "      <td>836</td>\n",
       "      <td>HYUNDAI</td>\n",
       "      <td>Tucson</td>\n",
       "      <td>2010</td>\n",
       "      <td>Jeep</td>\n",
       "      <td>Yes</td>\n",
       "      <td>Diesel</td>\n",
       "      <td>2</td>\n",
       "      <td>116365 km</td>\n",
       "      <td>4.0</td>\n",
       "      <td>Automatic</td>\n",
       "      <td>Front</td>\n",
       "      <td>04-May</td>\n",
       "      <td>Left wheel</td>\n",
       "      <td>Grey</td>\n",
       "      <td>4</td>\n",
       "    </tr>\n",
       "    <tr>\n",
       "      <th>19235</th>\n",
       "      <td>45793526</td>\n",
       "      <td>5331</td>\n",
       "      <td>1288</td>\n",
       "      <td>CHEVROLET</td>\n",
       "      <td>Captiva</td>\n",
       "      <td>2007</td>\n",
       "      <td>Jeep</td>\n",
       "      <td>Yes</td>\n",
       "      <td>Diesel</td>\n",
       "      <td>2</td>\n",
       "      <td>51258 km</td>\n",
       "      <td>4.0</td>\n",
       "      <td>Automatic</td>\n",
       "      <td>Front</td>\n",
       "      <td>04-May</td>\n",
       "      <td>Left wheel</td>\n",
       "      <td>Black</td>\n",
       "      <td>4</td>\n",
       "    </tr>\n",
       "    <tr>\n",
       "      <th>19236</th>\n",
       "      <td>45813273</td>\n",
       "      <td>470</td>\n",
       "      <td>753</td>\n",
       "      <td>HYUNDAI</td>\n",
       "      <td>Sonata</td>\n",
       "      <td>2012</td>\n",
       "      <td>Sedan</td>\n",
       "      <td>Yes</td>\n",
       "      <td>Hybrid</td>\n",
       "      <td>2.4</td>\n",
       "      <td>186923 km</td>\n",
       "      <td>4.0</td>\n",
       "      <td>Automatic</td>\n",
       "      <td>Front</td>\n",
       "      <td>04-May</td>\n",
       "      <td>Left wheel</td>\n",
       "      <td>White</td>\n",
       "      <td>12</td>\n",
       "    </tr>\n",
       "  </tbody>\n",
       "</table>\n",
       "<p>19237 rows × 18 columns</p>\n",
       "</div>"
      ],
      "text/plain": [
       "             ID  Price  Levy   Manufacturer    Model  Prod. year   Category  \\\n",
       "0      45654403  13328  1399          LEXUS   RX 450        2010       Jeep   \n",
       "1      44731507  16621  1018      CHEVROLET  Equinox        2011       Jeep   \n",
       "2      45774419   8467     -          HONDA      FIT        2006  Hatchback   \n",
       "3      45769185   3607   862           FORD   Escape        2011       Jeep   \n",
       "4      45809263  11726   446          HONDA      FIT        2014  Hatchback   \n",
       "...         ...    ...   ...            ...      ...         ...        ...   \n",
       "19232  45798355   8467     -  MERCEDES-BENZ  CLK 200        1999      Coupe   \n",
       "19233  45778856  15681   831        HYUNDAI   Sonata        2011      Sedan   \n",
       "19234  45804997  26108   836        HYUNDAI   Tucson        2010       Jeep   \n",
       "19235  45793526   5331  1288      CHEVROLET  Captiva        2007       Jeep   \n",
       "19236  45813273    470   753        HYUNDAI   Sonata        2012      Sedan   \n",
       "\n",
       "      Leather interior Fuel type Engine volume    Mileage  Cylinders  \\\n",
       "0                  Yes    Hybrid           3.5  186005 km        6.0   \n",
       "1                   No    Petrol             3  192000 km        6.0   \n",
       "2                   No    Petrol           1.3  200000 km        4.0   \n",
       "3                  Yes    Hybrid           2.5  168966 km        4.0   \n",
       "4                  Yes    Petrol           1.3   91901 km        4.0   \n",
       "...                ...       ...           ...        ...        ...   \n",
       "19232              Yes       CNG     2.0 Turbo  300000 km        4.0   \n",
       "19233              Yes    Petrol           2.4  161600 km        4.0   \n",
       "19234              Yes    Diesel             2  116365 km        4.0   \n",
       "19235              Yes    Diesel             2   51258 km        4.0   \n",
       "19236              Yes    Hybrid           2.4  186923 km        4.0   \n",
       "\n",
       "      Gear box type Drive wheels   Doors             Wheel   Color  Airbags  \n",
       "0         Automatic          4x4  04-May        Left wheel  Silver       12  \n",
       "1         Tiptronic          4x4  04-May        Left wheel   Black        8  \n",
       "2          Variator        Front  04-May  Right-hand drive   Black        2  \n",
       "3         Automatic          4x4  04-May        Left wheel   White        0  \n",
       "4         Automatic        Front  04-May        Left wheel  Silver        4  \n",
       "...             ...          ...     ...               ...     ...      ...  \n",
       "19232        Manual         Rear  02-Mar        Left wheel  Silver        5  \n",
       "19233     Tiptronic        Front  04-May        Left wheel     Red        8  \n",
       "19234     Automatic        Front  04-May        Left wheel    Grey        4  \n",
       "19235     Automatic        Front  04-May        Left wheel   Black        4  \n",
       "19236     Automatic        Front  04-May        Left wheel   White       12  \n",
       "\n",
       "[19237 rows x 18 columns]"
      ]
     },
     "execution_count": 10,
     "metadata": {},
     "output_type": "execute_result"
    }
   ],
   "source": [
    "newdata"
   ]
  },
  {
   "cell_type": "code",
   "execution_count": 11,
   "id": "e0b29cd1-109d-43a9-9030-fa81da1bb7f6",
   "metadata": {},
   "outputs": [
    {
     "data": {
      "text/html": [
       "<div>\n",
       "<style scoped>\n",
       "    .dataframe tbody tr th:only-of-type {\n",
       "        vertical-align: middle;\n",
       "    }\n",
       "\n",
       "    .dataframe tbody tr th {\n",
       "        vertical-align: top;\n",
       "    }\n",
       "\n",
       "    .dataframe thead th {\n",
       "        text-align: right;\n",
       "    }\n",
       "</style>\n",
       "<table border=\"1\" class=\"dataframe\">\n",
       "  <thead>\n",
       "    <tr style=\"text-align: right;\">\n",
       "      <th></th>\n",
       "      <th>ID</th>\n",
       "      <th>Price</th>\n",
       "      <th>Levy</th>\n",
       "      <th>Manufacturer</th>\n",
       "      <th>Model</th>\n",
       "      <th>Prod. year</th>\n",
       "      <th>Category</th>\n",
       "      <th>Leather interior</th>\n",
       "      <th>Fuel type</th>\n",
       "      <th>Engine volume</th>\n",
       "      <th>Mileage</th>\n",
       "      <th>Cylinders</th>\n",
       "      <th>Gear box type</th>\n",
       "      <th>Drive wheels</th>\n",
       "      <th>Doors</th>\n",
       "      <th>Wheel</th>\n",
       "      <th>Color</th>\n",
       "      <th>Airbags</th>\n",
       "    </tr>\n",
       "  </thead>\n",
       "  <tbody>\n",
       "    <tr>\n",
       "      <th>0</th>\n",
       "      <td>45654403</td>\n",
       "      <td>13328</td>\n",
       "      <td>1399</td>\n",
       "      <td>LEXUS</td>\n",
       "      <td>RX 450</td>\n",
       "      <td>2010</td>\n",
       "      <td>Jeep</td>\n",
       "      <td>Yes</td>\n",
       "      <td>Hybrid</td>\n",
       "      <td>3.5</td>\n",
       "      <td>186005 km</td>\n",
       "      <td>6.0</td>\n",
       "      <td>Automatic</td>\n",
       "      <td>4x4</td>\n",
       "      <td>04-May</td>\n",
       "      <td>Left wheel</td>\n",
       "      <td>Silver</td>\n",
       "      <td>12</td>\n",
       "    </tr>\n",
       "    <tr>\n",
       "      <th>1</th>\n",
       "      <td>44731507</td>\n",
       "      <td>16621</td>\n",
       "      <td>1018</td>\n",
       "      <td>CHEVROLET</td>\n",
       "      <td>Equinox</td>\n",
       "      <td>2011</td>\n",
       "      <td>Jeep</td>\n",
       "      <td>No</td>\n",
       "      <td>Petrol</td>\n",
       "      <td>3</td>\n",
       "      <td>192000 km</td>\n",
       "      <td>6.0</td>\n",
       "      <td>Tiptronic</td>\n",
       "      <td>4x4</td>\n",
       "      <td>04-May</td>\n",
       "      <td>Left wheel</td>\n",
       "      <td>Black</td>\n",
       "      <td>8</td>\n",
       "    </tr>\n",
       "    <tr>\n",
       "      <th>2</th>\n",
       "      <td>45774419</td>\n",
       "      <td>8467</td>\n",
       "      <td>-</td>\n",
       "      <td>HONDA</td>\n",
       "      <td>FIT</td>\n",
       "      <td>2006</td>\n",
       "      <td>Hatchback</td>\n",
       "      <td>No</td>\n",
       "      <td>Petrol</td>\n",
       "      <td>1.3</td>\n",
       "      <td>200000 km</td>\n",
       "      <td>4.0</td>\n",
       "      <td>Variator</td>\n",
       "      <td>Front</td>\n",
       "      <td>04-May</td>\n",
       "      <td>Right-hand drive</td>\n",
       "      <td>Black</td>\n",
       "      <td>2</td>\n",
       "    </tr>\n",
       "    <tr>\n",
       "      <th>3</th>\n",
       "      <td>45769185</td>\n",
       "      <td>3607</td>\n",
       "      <td>862</td>\n",
       "      <td>FORD</td>\n",
       "      <td>Escape</td>\n",
       "      <td>2011</td>\n",
       "      <td>Jeep</td>\n",
       "      <td>Yes</td>\n",
       "      <td>Hybrid</td>\n",
       "      <td>2.5</td>\n",
       "      <td>168966 km</td>\n",
       "      <td>4.0</td>\n",
       "      <td>Automatic</td>\n",
       "      <td>4x4</td>\n",
       "      <td>04-May</td>\n",
       "      <td>Left wheel</td>\n",
       "      <td>White</td>\n",
       "      <td>0</td>\n",
       "    </tr>\n",
       "    <tr>\n",
       "      <th>4</th>\n",
       "      <td>45809263</td>\n",
       "      <td>11726</td>\n",
       "      <td>446</td>\n",
       "      <td>HONDA</td>\n",
       "      <td>FIT</td>\n",
       "      <td>2014</td>\n",
       "      <td>Hatchback</td>\n",
       "      <td>Yes</td>\n",
       "      <td>Petrol</td>\n",
       "      <td>1.3</td>\n",
       "      <td>91901 km</td>\n",
       "      <td>4.0</td>\n",
       "      <td>Automatic</td>\n",
       "      <td>Front</td>\n",
       "      <td>04-May</td>\n",
       "      <td>Left wheel</td>\n",
       "      <td>Silver</td>\n",
       "      <td>4</td>\n",
       "    </tr>\n",
       "  </tbody>\n",
       "</table>\n",
       "</div>"
      ],
      "text/plain": [
       "         ID  Price  Levy Manufacturer    Model  Prod. year   Category  \\\n",
       "0  45654403  13328  1399        LEXUS   RX 450        2010       Jeep   \n",
       "1  44731507  16621  1018    CHEVROLET  Equinox        2011       Jeep   \n",
       "2  45774419   8467     -        HONDA      FIT        2006  Hatchback   \n",
       "3  45769185   3607   862         FORD   Escape        2011       Jeep   \n",
       "4  45809263  11726   446        HONDA      FIT        2014  Hatchback   \n",
       "\n",
       "  Leather interior Fuel type Engine volume    Mileage  Cylinders  \\\n",
       "0              Yes    Hybrid           3.5  186005 km        6.0   \n",
       "1               No    Petrol             3  192000 km        6.0   \n",
       "2               No    Petrol           1.3  200000 km        4.0   \n",
       "3              Yes    Hybrid           2.5  168966 km        4.0   \n",
       "4              Yes    Petrol           1.3   91901 km        4.0   \n",
       "\n",
       "  Gear box type Drive wheels   Doors             Wheel   Color  Airbags  \n",
       "0     Automatic          4x4  04-May        Left wheel  Silver       12  \n",
       "1     Tiptronic          4x4  04-May        Left wheel   Black        8  \n",
       "2      Variator        Front  04-May  Right-hand drive   Black        2  \n",
       "3     Automatic          4x4  04-May        Left wheel   White        0  \n",
       "4     Automatic        Front  04-May        Left wheel  Silver        4  "
      ]
     },
     "execution_count": 11,
     "metadata": {},
     "output_type": "execute_result"
    }
   ],
   "source": [
    "newdata.head()"
   ]
  },
  {
   "cell_type": "code",
   "execution_count": 12,
   "id": "c6dfdcc2-5a3d-4f0f-8b4c-415f4c3b05d7",
   "metadata": {},
   "outputs": [
    {
     "name": "stdout",
     "output_type": "stream",
     "text": [
      " Total number of rows: 19237 -> Total number of columns: 19237\n"
     ]
    }
   ],
   "source": [
    "## check  the number of rows and columns\n",
    "print(f' Total number of rows: {newdata.shape[0]} -> Total number of columns: {newdata.shape[0]}')"
   ]
  },
  {
   "cell_type": "code",
   "execution_count": 13,
   "id": "0c58f6a2-2e79-4895-bd50-8c3ae88d7025",
   "metadata": {},
   "outputs": [
    {
     "name": "stdout",
     "output_type": "stream",
     "text": [
      "<class 'pandas.core.frame.DataFrame'>\n",
      "RangeIndex: 19237 entries, 0 to 19236\n",
      "Data columns (total 18 columns):\n",
      " #   Column            Non-Null Count  Dtype  \n",
      "---  ------            --------------  -----  \n",
      " 0   ID                19237 non-null  int64  \n",
      " 1   Price             19237 non-null  int64  \n",
      " 2   Levy              19237 non-null  object \n",
      " 3   Manufacturer      19237 non-null  object \n",
      " 4   Model             19237 non-null  object \n",
      " 5   Prod. year        19237 non-null  int64  \n",
      " 6   Category          19237 non-null  object \n",
      " 7   Leather interior  19237 non-null  object \n",
      " 8   Fuel type         19237 non-null  object \n",
      " 9   Engine volume     19237 non-null  object \n",
      " 10  Mileage           19237 non-null  object \n",
      " 11  Cylinders         19237 non-null  float64\n",
      " 12  Gear box type     19237 non-null  object \n",
      " 13  Drive wheels      19237 non-null  object \n",
      " 14  Doors             19237 non-null  object \n",
      " 15  Wheel             19237 non-null  object \n",
      " 16  Color             19237 non-null  object \n",
      " 17  Airbags           19237 non-null  int64  \n",
      "dtypes: float64(1), int64(4), object(13)\n",
      "memory usage: 2.6+ MB\n"
     ]
    }
   ],
   "source": [
    "newdata.info()"
   ]
  },
  {
   "cell_type": "code",
   "execution_count": 14,
   "id": "588b0b6b-c240-4445-8bf4-30e758be1491",
   "metadata": {},
   "outputs": [
    {
     "data": {
      "text/plain": [
       "ID                  0\n",
       "Price               0\n",
       "Levy                0\n",
       "Manufacturer        0\n",
       "Model               0\n",
       "Prod. year          0\n",
       "Category            0\n",
       "Leather interior    0\n",
       "Fuel type           0\n",
       "Engine volume       0\n",
       "Mileage             0\n",
       "Cylinders           0\n",
       "Gear box type       0\n",
       "Drive wheels        0\n",
       "Doors               0\n",
       "Wheel               0\n",
       "Color               0\n",
       "Airbags             0\n",
       "dtype: int64"
      ]
     },
     "execution_count": 14,
     "metadata": {},
     "output_type": "execute_result"
    }
   ],
   "source": [
    "## checking for missing values\n",
    "newdata.isnull().sum()"
   ]
  },
  {
   "cell_type": "code",
   "execution_count": 15,
   "id": "acd22d99-80ec-4e57-9fab-796b6c62b01a",
   "metadata": {},
   "outputs": [
    {
     "data": {
      "text/plain": [
       "313"
      ]
     },
     "execution_count": 15,
     "metadata": {},
     "output_type": "execute_result"
    }
   ],
   "source": [
    "## checking for duplicated values\n",
    "newdata.duplicated().sum()"
   ]
  },
  {
   "cell_type": "code",
   "execution_count": 18,
   "id": "1ce80766-14d9-44d3-8c08-5e6e18c43fbd",
   "metadata": {},
   "outputs": [
    {
     "name": "stdout",
     "output_type": "stream",
     "text": [
      "[       1        3        6 ...   627220   872946 26307500]\n"
     ]
    }
   ],
   "source": [
    "## looking for uniques instances in the columns\n",
    "print(np.unique(newdata['Price']))\n",
    "\n"
   ]
  },
  {
   "cell_type": "code",
   "execution_count": 19,
   "id": "4d9c83fb-a056-4e5a-81c2-de52d991d092",
   "metadata": {},
   "outputs": [
    {
     "name": "stdout",
     "output_type": "stream",
     "text": [
      "['-' '1011' '1016' '1017' '1018' '1024' '1028' '1030' '1031' '1032' '1036'\n",
      " '1039' '1045' '1047' '1051' '1053' '1054' '1055' '1058' '1062' '1064'\n",
      " '1076' '1077' '1079' '1080' '1083' '1086' '1090' '1091' '1094' '1095'\n",
      " '1099' '1103' '1104' '1107' '1108' '1109' '1110' '1111' '1113' '1118'\n",
      " '1132' '1138' '1141' '1148' '115' '1156' '1163' '11706' '1171' '11714'\n",
      " '1172' '1174' '1176' '1178' '1185' '1187' '1190' '1194' '1195' '1197'\n",
      " '1198' '1202' '1203' '1205' '1211' '1228' '1234' '1236' '1246' '1249'\n",
      " '1252' '1266' '1267' '1268' '1272' '1273' '1275' '1277' '1279' '1282'\n",
      " '1285' '1286' '1288' '1292' '1296' '1297' '1301' '1304' '1307' '1308'\n",
      " '1317' '1323' '1324' '1325' '1327' '1341' '1342' '1345' '1346' '1347'\n",
      " '1356' '1357' '1360' '1361' '1363' '1365' '1366' '1368' '1369' '1375'\n",
      " '1384' '1387' '1391' '1399' '1405' '1408' '1411' '1413' '1426' '1436'\n",
      " '1437' '1438' '1440' '1441' '1442' '1451' '1452' '1466' '1468' '1470'\n",
      " '1473' '1474' '1481' '1482' '1486' '1488' '1493' '1502' '1503' '1505'\n",
      " '1511' '1514' '1515' '1516' '1518' '1522' '1525' '1528' '1529' '1531'\n",
      " '1533' '1537' '1539' '155' '1552' '1553' '1572' '1575' '1578' '1586'\n",
      " '1588' '1590' '1598' '1599' '1604' '1620' '1621' '1624' '1641' '1646'\n",
      " '1659' '1661' '1662' '1664' '1668' '167' '1671' '1673' '1675' '1677'\n",
      " '1678' '1680' '1681' '1685' '1688' '1694' '1699' '1701' '1705' '1708'\n",
      " '1714' '1716' '1719' '1723' '173' '1730' '1736' '175' '1750' '1756'\n",
      " '1759' '1760' '1768' '1781' '1793' '1807' '1811' '1816' '1817' '1820'\n",
      " '1823' '1829' '1832' '1834' '1836' '1841' '1845' '1848' '1850' '1855'\n",
      " '1866' '1869' '1872' '1885' '1888' '1901' '1917' '1924' '1935' '1946'\n",
      " '1948' '1951' '1960' '1968' '1974' '1975' '1991' '1993' '1995' '1996'\n",
      " '1998' '2000' '2002' '2004' '2018' '2054' '2056' '2067' '2070' '2073'\n",
      " '2078' '2080' '2082' '2084' '2108' '2123' '2148' '2151' '2156' '2177'\n",
      " '2188' '2195' '2209' '2216' '2223' '2225' '2236' '2265' '2266' '2269'\n",
      " '2278' '2297' '2308' '2337' '2364' '2377' '2386' '2410' '2418' '2421'\n",
      " '2455' '2467' '2469' '247' '2472' '2476' '2505' '2562' '2566' '2570'\n",
      " '2578' '259' '2606' '2628' '2658' '2670' '2690' '2705' '271' '2711'\n",
      " '2715' '2736' '279' '2819' '2858' '2866' '2874' '289' '2908' '2909'\n",
      " '2913' '294' '2959' '2971' '3008' '3015' '3025' '3057' '308' '3112'\n",
      " '3141' '3156' '3184' '3208' '3268' '3273' '328' '3292' '3301' '3329'\n",
      " '333' '345' '3505' '3518' '353' '3571' '362' '363' '364' '3699' '3739'\n",
      " '3743' '3811' '382' '3894' '3910' '394' '3965' '397' '3989' '399' '400'\n",
      " '402' '4057' '418' '419' '420' '421' '424' '425' '426' '4283' '431' '441'\n",
      " '442' '446' '447' '448' '4508' '456' '460' '461' '462' '463' '473' '4736'\n",
      " '474' '4741' '475' '481' '4860' '488' '489' '490' '494' '501' '502' '503'\n",
      " '505' '517' '518' '521' '524' '526' '527' '528' '530' '531' '5332' '551'\n",
      " '552' '556' '557' '5603' '562' '565' '5666' '5679' '5681' '574' '579'\n",
      " '583' '584' '585' '586' '5877' '5908' '595' '603' '604' '605' '607' '609'\n",
      " '612' '614' '617' '623' '626' '627' '629' '636' '637' '638' '639' '640'\n",
      " '641' '642' '644' '645' '649' '650' '658' '663' '666' '668' '676' '681'\n",
      " '682' '683' '686' '687' '690' '691' '692' '694' '695' '696' '697' '702'\n",
      " '7058' '706' '7063' '707' '714' '722' '723' '724' '729' '730' '731' '732'\n",
      " '738' '741' '742' '746' '748' '749' '750' '751' '753' '7536' '760' '761'\n",
      " '764' '765' '769' '770' '777' '779' '780' '781' '784' '789' '790' '792'\n",
      " '798' '799' '800' '810' '822' '827' '828' '830' '831' '832' '833' '834'\n",
      " '836' '841' '843' '859' '862' '864' '866' '867' '87' '870' '873' '874'\n",
      " '875' '876' '877' '878' '879' '880' '889' '890' '891' '893' '900' '911'\n",
      " '915' '916' '917' '919' '922' '924' '928' '930' '934' '944' '949' '955'\n",
      " '961' '965' '966' '967' '970' '971' '972' '975' '978' '980' '986' '988'\n",
      " '993' '994' '997']\n"
     ]
    }
   ],
   "source": [
    "print(np.unique(newdata['Levy']))"
   ]
  },
  {
   "cell_type": "code",
   "execution_count": 20,
   "id": "243f30c4-bc3f-4998-b7c1-c3bf4778eec6",
   "metadata": {},
   "outputs": [
    {
     "name": "stdout",
     "output_type": "stream",
     "text": [
      "['ACURA' 'ALFA ROMEO' 'ASTON MARTIN' 'AUDI' 'BENTLEY' 'BMW' 'BUICK'\n",
      " 'CADILLAC' 'CHEVROLET' 'CHRYSLER' 'CITROEN' 'DAEWOO' 'DAIHATSU' 'DODGE'\n",
      " 'FERRARI' 'FIAT' 'FORD' 'GAZ' 'GMC' 'GREATWALL' 'HAVAL' 'HONDA' 'HUMMER'\n",
      " 'HYUNDAI' 'INFINITI' 'ISUZU' 'JAGUAR' 'JEEP' 'KIA' 'LAMBORGHINI' 'LANCIA'\n",
      " 'LAND ROVER' 'LEXUS' 'LINCOLN' 'MASERATI' 'MAZDA' 'MERCEDES-BENZ'\n",
      " 'MERCURY' 'MINI' 'MITSUBISHI' 'MOSKVICH' 'NISSAN' 'OPEL' 'PEUGEOT'\n",
      " 'PONTIAC' 'PORSCHE' 'RENAULT' 'ROLLS-ROYCE' 'ROVER' 'SAAB' 'SATURN'\n",
      " 'SCION' 'SEAT' 'SKODA' 'SSANGYONG' 'SUBARU' 'SUZUKI' 'TESLA' 'TOYOTA'\n",
      " 'UAZ' 'VAZ' 'VOLKSWAGEN' 'VOLVO' 'ZAZ' 'სხვა']\n"
     ]
    }
   ],
   "source": [
    "print(np.unique(newdata['Manufacturer']))"
   ]
  },
  {
   "cell_type": "code",
   "execution_count": 21,
   "id": "fa3f678f-25ed-41ec-8fbd-38eb7d89f8ca",
   "metadata": {},
   "outputs": [
    {
     "name": "stdout",
     "output_type": "stream",
     "text": [
      "['09-Mar' '100' '100 NX' ... 'macan S' 'tC' 'xD']\n"
     ]
    }
   ],
   "source": [
    "print(np.unique(newdata['Model']))\n",
    "##Category\tLeather interior\tFuel type\tEngine volume\tMileage\tCylinders\tGear box type\tDrive wheels\tDoors\tWheel\tColor\tAirbags"
   ]
  },
  {
   "cell_type": "code",
   "execution_count": 23,
   "id": "ed766aaf-1f65-4d4b-9f4f-c529b9775b95",
   "metadata": {},
   "outputs": [
    {
     "name": "stdout",
     "output_type": "stream",
     "text": [
      "[1939 1943 1947 1953 1957 1964 1965 1968 1973 1974 1976 1977 1978 1980\n",
      " 1981 1982 1983 1984 1985 1986 1987 1988 1989 1990 1991 1992 1993 1994\n",
      " 1995 1996 1997 1998 1999 2000 2001 2002 2003 2004 2005 2006 2007 2008\n",
      " 2009 2010 2011 2012 2013 2014 2015 2016 2017 2018 2019 2020]\n"
     ]
    }
   ],
   "source": [
    "print(np.unique(newdata['Prod. year']))"
   ]
  },
  {
   "cell_type": "code",
   "execution_count": 24,
   "id": "52674c11-6620-4129-a98e-269aaaf6754f",
   "metadata": {},
   "outputs": [
    {
     "name": "stdout",
     "output_type": "stream",
     "text": [
      "['Cabriolet' 'Coupe' 'Goods wagon' 'Hatchback' 'Jeep' 'Limousine'\n",
      " 'Microbus' 'Minivan' 'Pickup' 'Sedan' 'Universal']\n"
     ]
    }
   ],
   "source": [
    "print(np.unique(newdata['Category']))"
   ]
  },
  {
   "cell_type": "code",
   "execution_count": 37,
   "id": "26f6146e-f4bf-4108-82c7-d575935e98fc",
   "metadata": {},
   "outputs": [
    {
     "name": "stdout",
     "output_type": "stream",
     "text": [
      "['No' 'Yes']\n"
     ]
    }
   ],
   "source": [
    "print(np.unique(newdata['Leather interior']))"
   ]
  },
  {
   "cell_type": "code",
   "execution_count": 36,
   "id": "3353ed55-2d1e-4e44-85d7-7462303b41c2",
   "metadata": {},
   "outputs": [
    {
     "name": "stdout",
     "output_type": "stream",
     "text": [
      "['CNG' 'Diesel' 'Hybrid' 'Hydrogen' 'LPG' 'Petrol' 'Plug-in Hybrid']\n"
     ]
    }
   ],
   "source": [
    "print(np.unique(newdata['Fuel type']))"
   ]
  },
  {
   "cell_type": "code",
   "execution_count": 27,
   "id": "21502287-9f08-40e0-a048-3bb7fca6b69d",
   "metadata": {},
   "outputs": [
    {
     "name": "stdout",
     "output_type": "stream",
     "text": [
      "['0' '0.1' '0.2' '0.2 Turbo' '0.3' '0.3 Turbo' '0.4' '0.4 Turbo' '0.5'\n",
      " '0.6' '0.6 Turbo' '0.7' '0.7 Turbo' '0.8' '0.8 Turbo' '0.9' '1'\n",
      " '1.0 Turbo' '1.1' '1.1 Turbo' '1.2' '1.2 Turbo' '1.3' '1.3 Turbo' '1.4'\n",
      " '1.4 Turbo' '1.5' '1.5 Turbo' '1.6' '1.6 Turbo' '1.7' '1.7 Turbo' '1.8'\n",
      " '1.8 Turbo' '1.9' '1.9 Turbo' '2' '2.0 Turbo' '2.1' '2.1 Turbo' '2.2'\n",
      " '2.2 Turbo' '2.3' '2.3 Turbo' '2.4' '2.4 Turbo' '2.5' '2.5 Turbo' '2.6'\n",
      " '2.7' '2.7 Turbo' '2.8' '2.8 Turbo' '2.9' '2.9 Turbo' '20' '3'\n",
      " '3.0 Turbo' '3.1' '3.2' '3.2 Turbo' '3.3' '3.4' '3.5' '3.5 Turbo' '3.6'\n",
      " '3.6 Turbo' '3.7' '3.7 Turbo' '3.8' '3.9' '4' '4.0 Turbo' '4.2'\n",
      " '4.2 Turbo' '4.3' '4.4' '4.4 Turbo' '4.5' '4.5 Turbo' '4.6' '4.6 Turbo'\n",
      " '4.7' '4.7 Turbo' '4.8' '4.8 Turbo' '5' '5.0 Turbo' '5.2' '5.3' '5.4'\n",
      " '5.4 Turbo' '5.5' '5.5 Turbo' '5.6' '5.7' '5.7 Turbo' '5.8' '5.9' '6'\n",
      " '6.2' '6.3' '6.3 Turbo' '6.4' '6.7' '6.8' '7.3']\n"
     ]
    }
   ],
   "source": [
    "print(np.unique(newdata['Engine volume']))"
   ]
  },
  {
   "cell_type": "code",
   "execution_count": 38,
   "id": "9835e887-4b9f-44b6-ae57-f881aa1f375d",
   "metadata": {},
   "outputs": [
    {
     "name": "stdout",
     "output_type": "stream",
     "text": [
      "['0 km' '1000 km' '10000 km' ... '99999 km' '999999 km' '999999999 km']\n"
     ]
    }
   ],
   "source": [
    "print(np.unique(newdata['Mileage']))"
   ]
  },
  {
   "cell_type": "code",
   "execution_count": 28,
   "id": "35d72e51-02cc-449d-aac2-435e636e4a70",
   "metadata": {},
   "outputs": [
    {
     "name": "stdout",
     "output_type": "stream",
     "text": [
      "[ 1.  2.  3.  4.  5.  6.  7.  8.  9. 10. 12. 14. 16.]\n"
     ]
    }
   ],
   "source": [
    "print(np.unique(newdata['Cylinders']))"
   ]
  },
  {
   "cell_type": "code",
   "execution_count": 29,
   "id": "448a1020-6ace-490d-a79a-9e611b9d0548",
   "metadata": {},
   "outputs": [
    {
     "name": "stdout",
     "output_type": "stream",
     "text": [
      "['Automatic' 'Manual' 'Tiptronic' 'Variator']\n"
     ]
    }
   ],
   "source": [
    "print(np.unique(newdata['Gear box type']))"
   ]
  },
  {
   "cell_type": "code",
   "execution_count": 41,
   "id": "cea36b69-ab7c-4fb8-becb-b829a13a439d",
   "metadata": {},
   "outputs": [
    {
     "name": "stdout",
     "output_type": "stream",
     "text": [
      "['02-Mar' '04-May' '>5']\n"
     ]
    }
   ],
   "source": [
    "print(np.unique(newdata['Doors']))"
   ]
  },
  {
   "cell_type": "code",
   "execution_count": 40,
   "id": "d7878b4d-18ee-45c7-9f58-2535b5ba0b6e",
   "metadata": {},
   "outputs": [
    {
     "name": "stdout",
     "output_type": "stream",
     "text": [
      "['Left wheel' 'Right-hand drive']\n"
     ]
    }
   ],
   "source": [
    "print(np.unique(newdata['Wheel']))"
   ]
  },
  {
   "cell_type": "code",
   "execution_count": 32,
   "id": "c06421f0-1829-48c7-8ee9-d811e4a0fb5b",
   "metadata": {},
   "outputs": [
    {
     "name": "stdout",
     "output_type": "stream",
     "text": [
      "['Beige' 'Black' 'Blue' 'Brown' 'Carnelian red' 'Golden' 'Green' 'Grey'\n",
      " 'Orange' 'Pink' 'Purple' 'Red' 'Silver' 'Sky blue' 'White' 'Yellow']\n"
     ]
    }
   ],
   "source": [
    "print(np.unique(newdata['Color']))"
   ]
  },
  {
   "cell_type": "code",
   "execution_count": 33,
   "id": "a0eb7a96-0121-45a9-89c4-6264fab54f76",
   "metadata": {},
   "outputs": [
    {
     "name": "stdout",
     "output_type": "stream",
     "text": [
      "[ 0  1  2  3  4  5  6  7  8  9 10 11 12 13 14 15 16]\n"
     ]
    }
   ],
   "source": [
    "print(np.unique(newdata['Airbags']))"
   ]
  },
  {
   "cell_type": "code",
   "execution_count": 50,
   "id": "132133b2-d22a-44a1-b04f-76fa3bd1e4c6",
   "metadata": {},
   "outputs": [],
   "source": [
    "newdata2=pd.read_csv('dataset/car_price_prediction.csv', na_values=('-'))"
   ]
  },
  {
   "cell_type": "code",
   "execution_count": 51,
   "id": "5cec436c-533c-43e4-b3ca-642eacd3813b",
   "metadata": {},
   "outputs": [
    {
     "data": {
      "text/plain": [
       "ID                     0\n",
       "Price                  0\n",
       "Levy                5819\n",
       "Manufacturer           0\n",
       "Model                  0\n",
       "Prod. year             0\n",
       "Category               0\n",
       "Leather interior       0\n",
       "Fuel type              0\n",
       "Engine volume          0\n",
       "Mileage                0\n",
       "Cylinders              0\n",
       "Gear box type          0\n",
       "Drive wheels           0\n",
       "Doors                  0\n",
       "Wheel                  0\n",
       "Color                  0\n",
       "Airbags                0\n",
       "dtype: int64"
      ]
     },
     "execution_count": 51,
     "metadata": {},
     "output_type": "execute_result"
    }
   ],
   "source": [
    "newdata2.isnull().sum()"
   ]
  },
  {
   "cell_type": "code",
   "execution_count": null,
   "id": "e35c1891-28ae-4aab-b418-636e1e81e790",
   "metadata": {},
   "outputs": [],
   "source": []
  }
 ],
 "metadata": {
  "kernelspec": {
   "display_name": "Python 3 (ipykernel)",
   "language": "python",
   "name": "python3"
  },
  "language_info": {
   "codemirror_mode": {
    "name": "ipython",
    "version": 3
   },
   "file_extension": ".py",
   "mimetype": "text/x-python",
   "name": "python",
   "nbconvert_exporter": "python",
   "pygments_lexer": "ipython3",
   "version": "3.12.0"
  }
 },
 "nbformat": 4,
 "nbformat_minor": 5
}
